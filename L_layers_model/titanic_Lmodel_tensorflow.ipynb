{
 "cells": [
  {
   "cell_type": "code",
   "execution_count": 1,
   "metadata": {
    "collapsed": true
   },
   "outputs": [],
   "source": [
    "import tensorflow as tf\n",
    "import pandas as pd\n",
    "import numpy as np\n",
    "from tensorflow.python.framework import ops\n",
    "from tf_utils import random_mini_batches, L_layer_model, one_hot_matrix, L_model_validation, L_model_train, predict, raw2train, Lmodel_hypersearch_v2, Lmodel_hypersearch_v3\n",
    "from sklearn.model_selection import train_test_split\n",
    "import matplotlib.pyplot as plt\n",
    "import time\n",
    "%matplotlib inline\n",
    "np.random.seed(1)"
   ]
  },
  {
   "cell_type": "code",
   "execution_count": 2,
   "metadata": {
    "collapsed": true
   },
   "outputs": [],
   "source": [
    "X_train_origin = pd.read_csv('C://erdongguo/titanic/X_train_v2.csv')\n",
    "X_test_origin = pd.read_csv('C://erdongguo/titanic/X_test_v2.csv')\n",
    "Y_train_origin = pd.read_csv('C://erdongguo/titanic/Y_train_v2.csv')"
   ]
  },
  {
   "cell_type": "code",
   "execution_count": 3,
   "metadata": {
    "collapsed": true
   },
   "outputs": [],
   "source": [
    "Y_train_origin = Y_train_origin.Survived"
   ]
  },
  {
   "cell_type": "code",
   "execution_count": 4,
   "metadata": {
    "collapsed": true
   },
   "outputs": [],
   "source": [
    "X_train, X_test, Y_train, Y_test = raw2train(X_train_origin, Y_train_origin)"
   ]
  },
  {
   "cell_type": "code",
   "execution_count": 5,
   "metadata": {},
   "outputs": [
    {
     "name": "stdout",
     "output_type": "stream",
     "text": [
      "number of training examples = 712\n",
      "number of test examples = 179\n",
      "X_train shape: (15, 712)\n",
      "Y_train shape: (2, 712)\n",
      "X_test shape: (15, 179)\n",
      "Y_test shape: (2, 179)\n"
     ]
    }
   ],
   "source": [
    "print (\"number of training examples = \" + str(X_train.shape[1]))\n",
    "print (\"number of test examples = \" + str(X_test.shape[1]))\n",
    "print (\"X_train shape: \" + str(X_train.shape))\n",
    "print (\"Y_train shape: \" + str(Y_train.shape))\n",
    "print (\"X_test shape: \" + str(X_test.shape))\n",
    "print (\"Y_test shape: \" + str(Y_test.shape))"
   ]
  },
  {
   "cell_type": "code",
   "execution_count": 6,
   "metadata": {
    "collapsed": true
   },
   "outputs": [],
   "source": [
    "layers_dims = [15, 20, 20, 20, 15, 5, 2]"
   ]
  },
  {
   "cell_type": "code",
   "execution_count": 7,
   "metadata": {},
   "outputs": [
    {
     "name": "stdout",
     "output_type": "stream",
     "text": [
      "Cost after epoch 0: 0.823245\n",
      "Cost after epoch 100: 0.401680\n",
      "Cost after epoch 200: 0.401923\n",
      "Cost after epoch 300: 0.399540\n",
      "Cost after epoch 400: 0.366162\n"
     ]
    },
    {
     "data": {
      "image/png": "[encoded data removed]",
      "text/plain": [
       "<matplotlib.figure.Figure at 0x1b7f7f26f28>"
      ]
     },
     "metadata": {},
     "output_type": "display_data"
    },
    {
     "name": "stdout",
     "output_type": "stream",
     "text": [
      "Train Accuracy: 0.867977\n",
      "Test Accuracy: 0.810056\n"
     ]
    }
   ],
   "source": [
    "L_layer_model(X_train, Y_train, X_test, Y_test, layers_dims, learning_rate = 0.0075, lamb = 0.003, \n",
    "                  num_epochs = 500, minibatch_size = 38, print_cost = True, output_para = False, plot = True)"
   ]
  },
  {
   "cell_type": "code",
   "execution_count": 8,
   "metadata": {},
   "outputs": [
    {
     "data": {
      "text/plain": [
       "(0.87640452, 0.77653629)"
      ]
     },
     "execution_count": 8,
     "metadata": {},
     "output_type": "execute_result"
    }
   ],
   "source": [
    "L_model_validation(X_train, Y_train, X_test, Y_test, layers_dims = layers_dims, learning_rate = 0.0075, lamb = 0.001, num_epochs = 500)"
   ]
  },
  {
   "cell_type": "code",
   "execution_count": 9,
   "metadata": {
    "collapsed": true
   },
   "outputs": [],
   "source": [
    "tic = time.time()"
   ]
  },
  {
   "cell_type": "code",
   "execution_count": 11,
   "metadata": {},
   "outputs": [
    {
     "data": {
      "text/plain": [
       "{}"
      ]
     },
     "execution_count": 11,
     "metadata": {},
     "output_type": "execute_result"
    }
   ],
   "source": [
    "Lmodel_hypersearch_v2(X_train, Y_train, X_test, Y_test, layers_dims = layers_dims, num_iters = 2, threshold = 0.8)"
   ]
  },
  {
   "cell_type": "code",
   "execution_count": 12,
   "metadata": {
    "collapsed": true
   },
   "outputs": [],
   "source": [
    "toc = time.time()"
   ]
  },
  {
   "cell_type": "code",
   "execution_count": 13,
   "metadata": {},
   "outputs": [
    {
     "name": "stdout",
     "output_type": "stream",
     "text": [
      "28809.431552886963ms\n"
     ]
    }
   ],
   "source": [
    "print(str((toc - tic) * 1000) + 'ms')"
   ]
  },
  {
   "cell_type": "code",
   "execution_count": 19,
   "metadata": {},
   "outputs": [
    {
     "data": {
      "text/plain": [
       "{}"
      ]
     },
     "execution_count": 19,
     "metadata": {},
     "output_type": "execute_result"
    }
   ],
   "source": [
    "Lmodel_hypersearch_v2(X_train, Y_train, X_test, Y_test, layers_dims = layers_dims, num_iters = 2, threshold = 0.8)"
   ]
  },
  {
   "cell_type": "code",
   "execution_count": 17,
   "metadata": {
    "collapsed": true
   },
   "outputs": [],
   "source": [
    "lr = 0.00068\n",
    "lb = 0.00026"
   ]
  },
  {
   "cell_type": "code",
   "execution_count": 20,
   "metadata": {},
   "outputs": [
    {
     "data": {
      "text/plain": [
       "{}"
      ]
     },
     "execution_count": 20,
     "metadata": {},
     "output_type": "execute_result"
    }
   ],
   "source": [
    "Lmodel_hypersearch_v3(X_train, Y_train, X_test, Y_test, layers_dims = layers_dims, lr = 0.00068, lb = 0.00026, sig1 = 0.0001, sig2 = 0.0001, num_iters = 100, threshold = 0.82)"
   ]
  },
  {
   "cell_type": "code",
   "execution_count": 21,
   "metadata": {},
   "outputs": [
    {
     "name": "stdout",
     "output_type": "stream",
     "text": [
      "Cost after epoch 0: 0.791932\n",
      "Cost after epoch 100: 0.458021\n",
      "Cost after epoch 200: 0.405670\n",
      "Cost after epoch 300: 0.373429\n",
      "Cost after epoch 400: 0.373991\n",
      "Cost after epoch 500: 0.370477\n",
      "Cost after epoch 600: 0.358270\n",
      "Cost after epoch 700: 0.370304\n",
      "Cost after epoch 800: 0.362851\n",
      "Cost after epoch 900: 0.379465\n",
      "Cost after epoch 1000: 0.347109\n",
      "Cost after epoch 1100: 0.356198\n",
      "Cost after epoch 1200: 0.348467\n",
      "Cost after epoch 1300: 0.347937\n",
      "Cost after epoch 1400: 0.339404\n"
     ]
    },
    {
     "data": {
      "image/png": "[encoded data removed]",
      "text/plain": [
       "<matplotlib.figure.Figure at 0x1b7f8f07400>"
      ]
     },
     "metadata": {},
     "output_type": "display_data"
    },
    {
     "name": "stdout",
     "output_type": "stream",
     "text": [
      "Train Accuracy: 0.898876\n",
      "Parameters have been trained!\n"
     ]
    }
   ],
   "source": [
    "parameters = L_model_train(X_train, Y_train, layers_dims, learning_rate = 0.0003, lamb = 0.001, num_epochs = 1500)"
   ]
  },
  {
   "cell_type": "code",
   "execution_count": 24,
   "metadata": {
    "collapsed": true
   },
   "outputs": [],
   "source": [
    "YY_predict = predict(X_test, parameters)"
   ]
  },
  {
   "cell_type": "code",
   "execution_count": null,
   "metadata": {
    "collapsed": true
   },
   "outputs": [],
   "source": []
  }
 ],
 "metadata": {
  "kernelspec": {
   "display_name": "Python 3",
   "language": "python",
   "name": "python3"
  },
  "language_info": {
   "codemirror_mode": {
    "name": "ipython",
    "version": 3
   },
   "file_extension": ".py",
   "mimetype": "text/x-python",
   "name": "python",
   "nbconvert_exporter": "python",
   "pygments_lexer": "ipython3",
   "version": "3.6.3"
  }
 },
 "nbformat": 4,
 "nbformat_minor": 2
}
